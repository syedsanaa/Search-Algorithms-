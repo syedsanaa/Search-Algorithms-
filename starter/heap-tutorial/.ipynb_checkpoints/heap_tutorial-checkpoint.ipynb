{
 "cells": [
  {
   "cell_type": "markdown",
   "id": "bd62a4f4",
   "metadata": {},
   "source": [
    "<h1>Heap Tutorial</h1>\n",
    "\n",
    "This tutorial covers the heapq operations needed in Assignment 1 of CMPUT 366 - Search & Planning in AI. \n",
    "\n",
    "In our running example we will consider houses with the attributes of price and area. The next cell defines a house with such attributes. You will notice that we are overloading the less than operator (see method \\_\\_lt\\_\\_). The heapq functions use this operator while comparing two houses. According to our implementation, a house A is smaller than B if A is cheaper than B. "
   ]
  },
  {
   "cell_type": "code",
   "execution_count": 1,
   "id": "bb5a11bf",
   "metadata": {},
   "outputs": [],
   "source": [
    "class House:\n",
    "    def __init__(self, price, area):\n",
    "        self._price = price\n",
    "        self._area = area\n",
    "        \n",
    "    def __lt__(self, other):\n",
    "        \"\"\"\n",
    "        Less-than operator; used to sort houses in the heap\n",
    "        \"\"\"\n",
    "        return self._price < other._price"
   ]
  },
  {
   "cell_type": "markdown",
   "id": "7222f004",
   "metadata": {},
   "source": [
    "Next, we will create a heap called my\\_heap and we will populate it with 10 houses whose prices and areas are randomly chosen: the prices can range from 100 to 1000 and the area can range from 2000 to 4000. \n",
    "\n",
    "In order to insert each house in the heap we must use the method heapq.heappush. That way we guarantee the heap property for my\\_heap. You will notice that the houses are inserted in some arbitrary order (as they are randomly generated). The heappush function will guarantee that we will have the cheapest house at the top of the heap (accessed with my\\_heap[0]). "
   ]
  },
  {
   "cell_type": "code",
   "execution_count": 2,
   "id": "0f0f7863",
   "metadata": {},
   "outputs": [
    {
     "name": "stdout",
     "output_type": "stream",
     "text": [
      "Inserting... 156 3235\n",
      "Inserting... 261 3616\n",
      "Inserting... 891 3502\n",
      "Inserting... 605 2583\n",
      "Inserting... 814 3219\n",
      "Inserting... 126 3810\n",
      "Inserting... 505 2354\n",
      "Inserting... 339 2766\n",
      "Inserting... 806 3322\n",
      "Inserting... 903 2235\n",
      "Cheapest house in the heap costs:  126\n"
     ]
    }
   ],
   "source": [
    "import heapq\n",
    "import random\n",
    "\n",
    "my_heap = []\n",
    "\n",
    "for _ in range(10):\n",
    "    h = House(random.randint(100, 1000), random.randint(2000, 4000))\n",
    "    print('Inserting...', h._price, h._area)\n",
    "    heapq.heappush(my_heap, h)\n",
    "    \n",
    "print('Cheapest house in the heap costs: ', my_heap[0]._price)"
   ]
  },
  {
   "cell_type": "markdown",
   "id": "063efa6c",
   "metadata": {},
   "source": [
    "We will now iteratively remove the cheapest house from the heap and print its price and area on the screen. The houses should be ordered by price. "
   ]
  },
  {
   "cell_type": "code",
   "execution_count": 3,
   "id": "4e9ad053",
   "metadata": {},
   "outputs": [
    {
     "name": "stdout",
     "output_type": "stream",
     "text": [
      "Popping... 126 3810\n",
      "Popping... 156 3235\n",
      "Popping... 261 3616\n",
      "Popping... 339 2766\n",
      "Popping... 505 2354\n",
      "Popping... 605 2583\n",
      "Popping... 806 3322\n",
      "Popping... 814 3219\n",
      "Popping... 891 3502\n",
      "Popping... 903 2235\n",
      "Size of the heap after popping all houses:  0\n"
     ]
    }
   ],
   "source": [
    "while len(my_heap) > 0:\n",
    "    h = heapq.heappop(my_heap)\n",
    "    print('Popping...', h._price, h._area)\n",
    "    \n",
    "print('Size of the heap after popping all houses: ', len(my_heap))"
   ]
  },
  {
   "cell_type": "markdown",
   "id": "c98e315c",
   "metadata": {},
   "source": [
    "Let's now consider an example of a heap with three houses, with the prices of 100, 200, and 300. Naturally, the cheapest house costs 100, as shown in the execution below. "
   ]
  },
  {
   "cell_type": "code",
   "execution_count": 11,
   "id": "53e7dc8e",
   "metadata": {},
   "outputs": [
    {
     "name": "stdout",
     "output_type": "stream",
     "text": [
      "Cheapest house in the heap costs:  100\n",
      "Popping... 100 2000\n",
      "Popping... 100 1500\n",
      "Popping... 200 2500\n",
      "Popping... 300 3500\n"
     ]
    }
   ],
   "source": [
    "my_heap = []\n",
    "\n",
    "h1 = House(100, 1500)\n",
    "h2 = House(200, 2500)\n",
    "h3 = House(300, 3500)\n",
    "\n",
    "heapq.heappush(my_heap, h1)\n",
    "heapq.heappush(my_heap, h2)\n",
    "heapq.heappush(my_heap, h3)\n",
    "\n",
    "print('Cheapest house in the heap costs: ', my_heap[0]._price)"
   ]
  },
  {
   "cell_type": "markdown",
   "id": "6ba3c7d0",
   "metadata": {},
   "source": [
    "What if we change the price of the most expensive house from 300 to 50. What is cheapest house in the heap? "
   ]
  },
  {
   "cell_type": "code",
   "execution_count": null,
   "id": "0cce6961",
   "metadata": {},
   "outputs": [],
   "source": [
    "h3._price = 50\n",
    "print('Cheapest house in the heap costs: ', my_heap[0]._price)"
   ]
  },
  {
   "cell_type": "markdown",
   "id": "2226e33a",
   "metadata": {},
   "source": [
    "The heap was not reorganized once we changed the price of the most expensive house in the structure. We can reorganize the heap by calling reheapify from the heapq library. The heap will then correctly point to the cheapest house. "
   ]
  },
  {
   "cell_type": "code",
   "execution_count": null,
   "id": "69bc8027",
   "metadata": {},
   "outputs": [],
   "source": [
    "heapq.heapify(my_heap)\n",
    "print('Cheapest house in the heap costs: ', my_heap[0]._price)"
   ]
  },
  {
   "cell_type": "markdown",
   "id": "3123f823",
   "metadata": {},
   "source": [
    "As an exercise, you should change the less than operator of the House class to account for area instead of price. Then, rerun all cells and make sure you understand the outputs. "
   ]
  },
  {
   "cell_type": "code",
   "execution_count": null,
   "id": "55fe31d9",
   "metadata": {},
   "outputs": [],
   "source": []
  }
 ],
 "metadata": {
  "kernelspec": {
   "display_name": "Python 3 (ipykernel)",
   "language": "python",
   "name": "python3"
  },
  "language_info": {
   "codemirror_mode": {
    "name": "ipython",
    "version": 3
   },
   "file_extension": ".py",
   "mimetype": "text/x-python",
   "name": "python",
   "nbconvert_exporter": "python",
   "pygments_lexer": "ipython3",
   "version": "3.9.10"
  }
 },
 "nbformat": 4,
 "nbformat_minor": 5
}
